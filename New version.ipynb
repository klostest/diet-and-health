{
 "cells": [
  {
   "cell_type": "markdown",
   "metadata": {},
   "source": [
    "I'm thinking a total revamp here.\n",
    "\n",
    "- Data pull and explore\n",
    "    - Use web APIs as opposed to manual CSV download? Would take longer to learn... is it worth it?\n",
    "    - For example, https://www.who.int/data/gho/info/gho-odata-api\n",
    "    - What new data is available as opposed to when I did this last time?\n",
    "- Mapping\n",
    "    - Probably use geopandas now\n",
    "- Modeling\n",
    "    - How different should this be? Logistic regression? XGBoost/Random Forest?\n",
    "- PCA\n",
    "    - Had some initial sketches on this, although they were probably wrong since I don't think I normalized features. Do I even do this here? What about the modeling? Was I supposed to normalize features there? Maybe. Population-weighted regression as suggested by Pavlos? A lot to consider."
   ]
  },
  {
   "cell_type": "code",
   "execution_count": null,
   "metadata": {},
   "outputs": [],
   "source": []
  }
 ],
 "metadata": {
  "kernelspec": {
   "display_name": "Python 3",
   "language": "python",
   "name": "python3"
  },
  "language_info": {
   "codemirror_mode": {
    "name": "ipython",
    "version": 3
   },
   "file_extension": ".py",
   "mimetype": "text/x-python",
   "name": "python",
   "nbconvert_exporter": "python",
   "pygments_lexer": "ipython3",
   "version": "3.7.5"
  }
 },
 "nbformat": 4,
 "nbformat_minor": 2
}
