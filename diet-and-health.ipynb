{
 "cells": [
  {
   "cell_type": "markdown",
   "metadata": {},
   "source": [
    "CS 109 Fall 2016 Project\n",
    "Stephen Klosterman"
   ]
  },
  {
   "cell_type": "code",
   "execution_count": 1,
   "metadata": {
    "collapsed": true
   },
   "outputs": [],
   "source": [
    "#Import libraries\n",
    "import pandas as pd\n",
    "import numpy as np\n",
    "import matplotlib.pyplot as plt\n",
    "import numpy as np\n",
    "%matplotlib inline"
   ]
  },
  {
   "cell_type": "markdown",
   "metadata": {},
   "source": [
    "# Mapping practice"
   ]
  },
  {
   "cell_type": "code",
   "execution_count": 2,
   "metadata": {
    "collapsed": false
   },
   "outputs": [],
   "source": [
    "# #Mapping practice\n",
    "# import cartopy.crs as ccrs\n",
    "# import matplotlib.pyplot as plt\n",
    "# import cartopy.io.shapereader as shpreader\n",
    "# import itertools\n",
    "\n",
    "\n",
    "# shapename = 'admin_0_countries'\n",
    "# countries_shp = shpreader.natural_earth(resolution='110m',\n",
    "#                                         category='cultural', name=shapename)\n",
    "\n",
    "# # some nice \"earthy\" colors\n",
    "# earth_colors = np.array([(199, 233, 192),\n",
    "#                                 (161, 217, 155),\n",
    "#                                 (116, 196, 118),\n",
    "#                                 (65, 171, 93),\n",
    "#                                 (35, 139, 69),\n",
    "#                                 ]) / 255.\n",
    "# earth_colors = itertools.cycle(earth_colors)\n",
    "\n",
    "\n",
    "\n",
    "# ax = plt.axes(projection=ccrs.PlateCarree())\n",
    "# for country in shpreader.Reader(countries_shp).records():\n",
    "# #     print country.attributes['name_long'], earth_colors.next()\n",
    "#     ax.add_geometries(country.geometry, ccrs.PlateCarree(),\n",
    "#                       facecolor=earth_colors.next())#,\n",
    "# #                       label=country.attributes['name_long'])\n",
    "\n",
    "# # plt.show()"
   ]
  },
  {
   "cell_type": "markdown",
   "metadata": {},
   "source": [
    "# Cardiovascular disease data"
   ]
  },
  {
   "cell_type": "code",
   "execution_count": 55,
   "metadata": {
    "collapsed": false
   },
   "outputs": [
    {
     "name": "stdout",
     "output_type": "stream",
     "text": [
      "Afghanistan\n",
      "Albania\n",
      "Algeria\n",
      "Angola\n",
      "Argentina\n",
      "Armenia\n",
      "Australia\n",
      "Austria\n",
      "Azerbaijan\n",
      "Bahamas\n",
      "Bahrain\n",
      "Bangladesh\n",
      "Barbados\n",
      "Belarus\n",
      "Belgium\n",
      "Belize\n",
      "Benin\n",
      "Bhutan\n",
      "Bolivia (Plurinational State of)\n",
      "Bosnia and Herzegovina\n",
      "Botswana\n",
      "Brazil\n",
      "Brunei Darussalam\n",
      "Bulgaria\n",
      "Burkina Faso\n",
      "Burundi\n",
      "Cote d'Ivoire\n",
      "Cabo Verde\n",
      "Cambodia\n",
      "Cameroon\n",
      "Canada\n",
      "Central African Republic\n",
      "Chad\n",
      "Chile\n",
      "China\n",
      "Colombia\n",
      "Comoros\n",
      "Congo\n",
      "Costa Rica\n",
      "Croatia\n",
      "Cuba\n",
      "Cyprus\n",
      "Czech Republic\n",
      "Democratic People's Republic of Korea\n",
      "Democratic Republic of the Congo\n",
      "Denmark\n",
      "Djibouti\n",
      "Dominican Republic\n",
      "Ecuador\n",
      "Egypt\n",
      "El Salvador\n",
      "Equatorial Guinea\n",
      "Eritrea\n",
      "Estonia\n",
      "Ethiopia\n",
      "Fiji\n",
      "Finland\n",
      "France\n",
      "Gabon\n",
      "Gambia\n",
      "Georgia\n",
      "Germany\n",
      "Ghana\n",
      "Greece\n",
      "Guatemala\n",
      "Guinea\n",
      "Guinea-Bissau\n",
      "Guyana\n",
      "Haiti\n",
      "Honduras\n",
      "Hungary\n",
      "Iceland\n",
      "India\n",
      "Indonesia\n",
      "Iran (Islamic Republic of)\n",
      "Iraq\n",
      "Ireland\n",
      "Israel\n",
      "Italy\n",
      "Jamaica\n",
      "Japan\n",
      "Jordan\n",
      "Kazakhstan\n",
      "Kenya\n",
      "Kuwait\n",
      "Kyrgyzstan\n",
      "Lao People's Democratic Republic\n",
      "Latvia\n",
      "Lebanon\n",
      "Lesotho\n",
      "Liberia\n",
      "Libya\n",
      "Lithuania\n",
      "Luxembourg\n",
      "Madagascar\n",
      "Malawi\n",
      "Malaysia\n",
      "Maldives\n",
      "Mali\n",
      "Malta\n",
      "Mauritania\n",
      "Mauritius\n",
      "Mexico\n",
      "Mongolia\n",
      "Montenegro\n",
      "Morocco\n",
      "Mozambique\n",
      "Myanmar\n",
      "Namibia\n",
      "Nepal\n",
      "Netherlands\n",
      "New Zealand\n",
      "Nicaragua\n",
      "Niger\n",
      "Nigeria\n",
      "Norway\n",
      "Oman\n",
      "Pakistan\n",
      "Panama\n",
      "Papua New Guinea\n",
      "Paraguay\n",
      "Peru\n",
      "Philippines\n",
      "Poland\n",
      "Portugal\n",
      "Qatar\n",
      "Republic of Korea\n",
      "Republic of Moldova\n",
      "Romania\n",
      "Russian Federation\n",
      "Rwanda\n",
      "Saudi Arabia\n",
      "Senegal\n",
      "Serbia\n",
      "Sierra Leone\n",
      "Singapore\n",
      "Slovakia\n",
      "Slovenia\n",
      "Solomon Islands\n",
      "Somalia\n",
      "South Africa\n",
      "South Sudan\n",
      "Spain\n",
      "Sri Lanka\n",
      "Sudan\n",
      "Suriname\n",
      "Swaziland\n",
      "Sweden\n",
      "Switzerland\n",
      "Syrian Arab Republic\n",
      "Tajikistan\n",
      "Thailand\n",
      "The former Yugoslav republic of Macedonia\n",
      "Timor-Leste\n",
      "Togo\n",
      "Trinidad and Tobago\n",
      "Tunisia\n",
      "Turkey\n",
      "Turkmenistan\n",
      "Uganda\n",
      "Ukraine\n",
      "United Arab Emirates\n",
      "United Kingdom of Great Britain and Northern Ireland\n",
      "United Republic of Tanzania\n",
      "United States of America\n",
      "Uruguay\n",
      "Uzbekistan\n",
      "Venezuela (Bolivarian Republic of)\n",
      "Viet Nam\n",
      "Yemen\n",
      "Zambia\n",
      "Zimbabwe\n"
     ]
    }
   ],
   "source": [
    "#Cardiovascular disease data\n",
    "cardio_file = 'data/data.csv'\n",
    "cardio_data = pd.read_csv(cardio_file)\n",
    "\n",
    "#Get rid of male and female only results\n",
    "cardio_data = cardio_data.drop(['Age-standardized mortality rate by cause (per 100 000 population).1', \\\n",
    "                  'Age-standardized mortality rate by cause (per 100 000 population).2'], axis=1)\n",
    "\n",
    "cardio_2012 = cardio_data[cardio_data['Unnamed: 1'].isin(['2000'])]\n",
    "\n",
    "cardio_2012 = cardio_2012.drop(['Unnamed: 1'], axis=1)\n",
    "\n",
    "#Rename Unnamed: 0 to AreaName for merging with meat data...\n",
    "#This not necessary to be the same name, just that country names are used\n",
    "#as indices\n",
    "cardio_2012 = cardio_2012.rename(columns={'Unnamed: 0' : 'Country'})\n",
    "\n",
    "#Set this as index\n",
    "cardio_2012 = cardio_2012.set_index(['Country'])\n",
    "\n",
    "cardio_2012.head()\n",
    "\n",
    "for item in cardio_2012.index:\n",
    "    print item\n",
    "\n",
    "#Limit this analysis to work with 2012 data\n",
    "# cardio_2012 = cardio_data[cardio_data['Unnamed: 1'].isin(['2012'])]\n",
    "# cardio_2012.count()  #172\n",
    "# cardio_2012.head()\n",
    "\n",
    "# cardio_2012['Unnamed: 0'].unique()\n",
    "\n",
    "#Country List\n",
    "# cardio_countries = cardio_2012['Unnamed: 0']\n",
    "# np.shape(cardio_countries)  #172\n",
    "\n",
    "#This is the disease per capita number\n",
    "# cardio_data['Unnamed: 1'].unique()\n",
    "\n",
    "# cardio_2012['2', ['Unnamed: 0']]\n",
    "# cardio_2012.index\n",
    "# testing = cardio_2012['Unnamed: 0'].isin(['Afghanistan'])\n",
    "# sum(testing)\n",
    "\n",
    "#Create empty arrays for country name, numbers\n",
    "# fish_consumption = np.ones(fish_2012.shape[0]) * np.nan\n",
    "# cardio_disease = np.ones(fish_2012.shape[0]) * np.nan\n",
    "#fish_2012.AreaName gives the corresponding list of countries"
   ]
  },
  {
   "cell_type": "markdown",
   "metadata": {},
   "source": [
    "# Crop data"
   ]
  },
  {
   "cell_type": "code",
   "execution_count": 56,
   "metadata": {
    "collapsed": true
   },
   "outputs": [],
   "source": [
    "#Read in crops data for checking row number\n",
    "crop_file = './data/1caaffac-d01c-4d02-8735-404d3089b47e.csv'\n",
    "crop_data = pd.read_csv(crop_file)"
   ]
  },
  {
   "cell_type": "code",
   "execution_count": 57,
   "metadata": {
    "collapsed": false
   },
   "outputs": [
    {
     "data": {
      "text/html": [
       "<div>\n",
       "<table border=\"1\" class=\"dataframe\">\n",
       "  <thead>\n",
       "    <tr style=\"text-align: right;\">\n",
       "      <th></th>\n",
       "      <th>﻿Domain Code</th>\n",
       "      <th>Domain</th>\n",
       "      <th>AreaCode</th>\n",
       "      <th>AreaName</th>\n",
       "      <th>ElementCode</th>\n",
       "      <th>ElementName</th>\n",
       "      <th>ItemCode</th>\n",
       "      <th>ItemName</th>\n",
       "      <th>Year</th>\n",
       "      <th>Value</th>\n",
       "      <th>Flag</th>\n",
       "      <th>FlagD</th>\n",
       "    </tr>\n",
       "  </thead>\n",
       "  <tbody>\n",
       "    <tr>\n",
       "      <th>0</th>\n",
       "      <td>CC</td>\n",
       "      <td>Food Supply - Crops Primary Equivalent</td>\n",
       "      <td>1</td>\n",
       "      <td>Armenia</td>\n",
       "      <td>511</td>\n",
       "      <td>Total Population - Both sexes</td>\n",
       "      <td>2501</td>\n",
       "      <td>Population</td>\n",
       "      <td>1992</td>\n",
       "      <td>3449</td>\n",
       "      <td>NaN</td>\n",
       "      <td>Official data</td>\n",
       "    </tr>\n",
       "    <tr>\n",
       "      <th>1</th>\n",
       "      <td>CC</td>\n",
       "      <td>Food Supply - Crops Primary Equivalent</td>\n",
       "      <td>1</td>\n",
       "      <td>Armenia</td>\n",
       "      <td>511</td>\n",
       "      <td>Total Population - Both sexes</td>\n",
       "      <td>2501</td>\n",
       "      <td>Population</td>\n",
       "      <td>1993</td>\n",
       "      <td>3370</td>\n",
       "      <td>NaN</td>\n",
       "      <td>Official data</td>\n",
       "    </tr>\n",
       "    <tr>\n",
       "      <th>2</th>\n",
       "      <td>CC</td>\n",
       "      <td>Food Supply - Crops Primary Equivalent</td>\n",
       "      <td>1</td>\n",
       "      <td>Armenia</td>\n",
       "      <td>511</td>\n",
       "      <td>Total Population - Both sexes</td>\n",
       "      <td>2501</td>\n",
       "      <td>Population</td>\n",
       "      <td>1994</td>\n",
       "      <td>3290</td>\n",
       "      <td>NaN</td>\n",
       "      <td>Official data</td>\n",
       "    </tr>\n",
       "    <tr>\n",
       "      <th>3</th>\n",
       "      <td>CC</td>\n",
       "      <td>Food Supply - Crops Primary Equivalent</td>\n",
       "      <td>1</td>\n",
       "      <td>Armenia</td>\n",
       "      <td>511</td>\n",
       "      <td>Total Population - Both sexes</td>\n",
       "      <td>2501</td>\n",
       "      <td>Population</td>\n",
       "      <td>1995</td>\n",
       "      <td>3223</td>\n",
       "      <td>NaN</td>\n",
       "      <td>Official data</td>\n",
       "    </tr>\n",
       "    <tr>\n",
       "      <th>4</th>\n",
       "      <td>CC</td>\n",
       "      <td>Food Supply - Crops Primary Equivalent</td>\n",
       "      <td>1</td>\n",
       "      <td>Armenia</td>\n",
       "      <td>511</td>\n",
       "      <td>Total Population - Both sexes</td>\n",
       "      <td>2501</td>\n",
       "      <td>Population</td>\n",
       "      <td>1996</td>\n",
       "      <td>3173</td>\n",
       "      <td>NaN</td>\n",
       "      <td>Official data</td>\n",
       "    </tr>\n",
       "  </tbody>\n",
       "</table>\n",
       "</div>"
      ],
      "text/plain": [
       "  ﻿Domain Code                                  Domain  AreaCode AreaName  \\\n",
       "0           CC  Food Supply - Crops Primary Equivalent         1  Armenia   \n",
       "1           CC  Food Supply - Crops Primary Equivalent         1  Armenia   \n",
       "2           CC  Food Supply - Crops Primary Equivalent         1  Armenia   \n",
       "3           CC  Food Supply - Crops Primary Equivalent         1  Armenia   \n",
       "4           CC  Food Supply - Crops Primary Equivalent         1  Armenia   \n",
       "\n",
       "   ElementCode                    ElementName  ItemCode    ItemName  Year  \\\n",
       "0          511  Total Population - Both sexes      2501  Population  1992   \n",
       "1          511  Total Population - Both sexes      2501  Population  1993   \n",
       "2          511  Total Population - Both sexes      2501  Population  1994   \n",
       "3          511  Total Population - Both sexes      2501  Population  1995   \n",
       "4          511  Total Population - Both sexes      2501  Population  1996   \n",
       "\n",
       "   Value Flag          FlagD  \n",
       "0   3449  NaN  Official data  \n",
       "1   3370  NaN  Official data  \n",
       "2   3290  NaN  Official data  \n",
       "3   3223  NaN  Official data  \n",
       "4   3173  NaN  Official data  "
      ]
     },
     "execution_count": 57,
     "metadata": {},
     "output_type": "execute_result"
    }
   ],
   "source": [
    "crop_data.head()"
   ]
  },
  {
   "cell_type": "code",
   "execution_count": 58,
   "metadata": {
    "collapsed": false
   },
   "outputs": [],
   "source": [
    "#Check other format of data download\n",
    "#Read in crops data for checking row number\n",
    "# crop_file_2 = './data_new/FoodSupply_Crops_E_All_Data.csv'\n",
    "# crop_data_2 = pd.read_csv(crop_file_2)\n",
    "# crop_data_2.head(25)\n"
   ]
  },
  {
   "cell_type": "code",
   "execution_count": 59,
   "metadata": {
    "collapsed": false
   },
   "outputs": [
    {
     "data": {
      "text/html": [
       "<div>\n",
       "<table border=\"1\" class=\"dataframe\">\n",
       "  <thead>\n",
       "    <tr style=\"text-align: right;\">\n",
       "      <th></th>\n",
       "      <th>﻿Domain Code</th>\n",
       "      <th>Domain</th>\n",
       "      <th>AreaCode</th>\n",
       "      <th>AreaName</th>\n",
       "      <th>ElementCode</th>\n",
       "      <th>ElementName</th>\n",
       "      <th>ItemCode</th>\n",
       "      <th>ItemName</th>\n",
       "      <th>Year</th>\n",
       "      <th>Value</th>\n",
       "      <th>Flag</th>\n",
       "      <th>FlagD</th>\n",
       "    </tr>\n",
       "  </thead>\n",
       "  <tbody>\n",
       "    <tr>\n",
       "      <th>1440</th>\n",
       "      <td>CC</td>\n",
       "      <td>Food Supply - Crops Primary Equivalent</td>\n",
       "      <td>1</td>\n",
       "      <td>Armenia</td>\n",
       "      <td>645</td>\n",
       "      <td>Food supply quantity (kg/capita/yr)</td>\n",
       "      <td>2511</td>\n",
       "      <td>Wheat and products</td>\n",
       "      <td>1992</td>\n",
       "      <td>156.16</td>\n",
       "      <td>Fc</td>\n",
       "      <td>Calculated data</td>\n",
       "    </tr>\n",
       "    <tr>\n",
       "      <th>1441</th>\n",
       "      <td>CC</td>\n",
       "      <td>Food Supply - Crops Primary Equivalent</td>\n",
       "      <td>1</td>\n",
       "      <td>Armenia</td>\n",
       "      <td>645</td>\n",
       "      <td>Food supply quantity (kg/capita/yr)</td>\n",
       "      <td>2511</td>\n",
       "      <td>Wheat and products</td>\n",
       "      <td>1993</td>\n",
       "      <td>161.44</td>\n",
       "      <td>Fc</td>\n",
       "      <td>Calculated data</td>\n",
       "    </tr>\n",
       "    <tr>\n",
       "      <th>1442</th>\n",
       "      <td>CC</td>\n",
       "      <td>Food Supply - Crops Primary Equivalent</td>\n",
       "      <td>1</td>\n",
       "      <td>Armenia</td>\n",
       "      <td>645</td>\n",
       "      <td>Food supply quantity (kg/capita/yr)</td>\n",
       "      <td>2511</td>\n",
       "      <td>Wheat and products</td>\n",
       "      <td>1994</td>\n",
       "      <td>153.78</td>\n",
       "      <td>Fc</td>\n",
       "      <td>Calculated data</td>\n",
       "    </tr>\n",
       "    <tr>\n",
       "      <th>1443</th>\n",
       "      <td>CC</td>\n",
       "      <td>Food Supply - Crops Primary Equivalent</td>\n",
       "      <td>1</td>\n",
       "      <td>Armenia</td>\n",
       "      <td>645</td>\n",
       "      <td>Food supply quantity (kg/capita/yr)</td>\n",
       "      <td>2511</td>\n",
       "      <td>Wheat and products</td>\n",
       "      <td>1995</td>\n",
       "      <td>154.23</td>\n",
       "      <td>Fc</td>\n",
       "      <td>Calculated data</td>\n",
       "    </tr>\n",
       "    <tr>\n",
       "      <th>1444</th>\n",
       "      <td>CC</td>\n",
       "      <td>Food Supply - Crops Primary Equivalent</td>\n",
       "      <td>1</td>\n",
       "      <td>Armenia</td>\n",
       "      <td>645</td>\n",
       "      <td>Food supply quantity (kg/capita/yr)</td>\n",
       "      <td>2511</td>\n",
       "      <td>Wheat and products</td>\n",
       "      <td>1996</td>\n",
       "      <td>156.34</td>\n",
       "      <td>Fc</td>\n",
       "      <td>Calculated data</td>\n",
       "    </tr>\n",
       "  </tbody>\n",
       "</table>\n",
       "</div>"
      ],
      "text/plain": [
       "     ﻿Domain Code                                  Domain  AreaCode AreaName  \\\n",
       "1440           CC  Food Supply - Crops Primary Equivalent         1  Armenia   \n",
       "1441           CC  Food Supply - Crops Primary Equivalent         1  Armenia   \n",
       "1442           CC  Food Supply - Crops Primary Equivalent         1  Armenia   \n",
       "1443           CC  Food Supply - Crops Primary Equivalent         1  Armenia   \n",
       "1444           CC  Food Supply - Crops Primary Equivalent         1  Armenia   \n",
       "\n",
       "      ElementCode                          ElementName  ItemCode  \\\n",
       "1440          645  Food supply quantity (kg/capita/yr)      2511   \n",
       "1441          645  Food supply quantity (kg/capita/yr)      2511   \n",
       "1442          645  Food supply quantity (kg/capita/yr)      2511   \n",
       "1443          645  Food supply quantity (kg/capita/yr)      2511   \n",
       "1444          645  Food supply quantity (kg/capita/yr)      2511   \n",
       "\n",
       "                ItemName  Year   Value Flag            FlagD  \n",
       "1440  Wheat and products  1992  156.16   Fc  Calculated data  \n",
       "1441  Wheat and products  1993  161.44   Fc  Calculated data  \n",
       "1442  Wheat and products  1994  153.78   Fc  Calculated data  \n",
       "1443  Wheat and products  1995  154.23   Fc  Calculated data  \n",
       "1444  Wheat and products  1996  156.34   Fc  Calculated data  "
      ]
     },
     "execution_count": 59,
     "metadata": {},
     "output_type": "execute_result"
    }
   ],
   "source": [
    "# print crop_data.ElementName.unique()\n",
    "# print crop_data.Year.unique()\n",
    "\n",
    "#ItemNames\n",
    "crop_items = crop_data.ItemName.unique()\n",
    "#Get rid of \"population\" and \"nan\"\n",
    "crop_items = crop_items[1:-1]\n",
    "#Get rid of Grand Total\n",
    "crop_items = crop_items[np.not_equal(crop_items, 'Grand Total')]\n",
    "# print crop_items\n",
    "\n",
    "# Want to get, for each type of data, for each country:\n",
    "#The values for the decade before 2012.  This could be a sum.\n",
    "#Probably also want the NaN count\n",
    "\n",
    "#Try subsetting just \"Fish, Seafood\", \n",
    "#'Food supply quantity (kg/capita/yr)'\n",
    "#Decade before 2012?\n",
    "\n",
    "# for meat_name in meat_items:\n",
    "combined_mask = crop_data.ItemName.isin(crop_items) & \\\n",
    "    crop_data.ElementName.isin(['Food supply quantity (kg/capita/yr)']) & \\\n",
    "    (crop_data.Year <= 2000) & \\\n",
    "    (crop_data.Year >= 1990)\n",
    "crop_subset = crop_data[combined_mask]\n",
    "\n",
    "crop_subset.head()"
   ]
  },
  {
   "cell_type": "markdown",
   "metadata": {},
   "source": [
    "# Meat and fish data"
   ]
  },
  {
   "cell_type": "code",
   "execution_count": 74,
   "metadata": {
    "collapsed": true
   },
   "outputs": [],
   "source": [
    "#Load data\n",
    "meat_fish_file = './data/c1da0671-f39b-4d39-a421-6a19af9d6cd1.csv'\n",
    "meat_fish_data = pd.read_csv(meat_fish_file)"
   ]
  },
  {
   "cell_type": "code",
   "execution_count": 75,
   "metadata": {
    "collapsed": false
   },
   "outputs": [
    {
     "data": {
      "text/html": [
       "<div>\n",
       "<table border=\"1\" class=\"dataframe\">\n",
       "  <thead>\n",
       "    <tr style=\"text-align: right;\">\n",
       "      <th></th>\n",
       "      <th>IDomain Code</th>\n",
       "      <th>Domain</th>\n",
       "      <th>AreaCode</th>\n",
       "      <th>AreaName</th>\n",
       "      <th>ElementCode</th>\n",
       "      <th>ElementName</th>\n",
       "      <th>ItemCode</th>\n",
       "      <th>ItemName</th>\n",
       "      <th>Year</th>\n",
       "      <th>Value</th>\n",
       "      <th>Flag</th>\n",
       "      <th>FlagD</th>\n",
       "    </tr>\n",
       "  </thead>\n",
       "  <tbody>\n",
       "    <tr>\n",
       "      <th>0</th>\n",
       "      <td>CL</td>\n",
       "      <td>Food Supply - Livestock and Fish Primary Equiv...</td>\n",
       "      <td>1</td>\n",
       "      <td>Armenia</td>\n",
       "      <td>511</td>\n",
       "      <td>Total Population - Both sexes</td>\n",
       "      <td>2501</td>\n",
       "      <td>Population</td>\n",
       "      <td>1992</td>\n",
       "      <td>3449</td>\n",
       "      <td>NaN</td>\n",
       "      <td>Official data</td>\n",
       "    </tr>\n",
       "    <tr>\n",
       "      <th>1</th>\n",
       "      <td>CL</td>\n",
       "      <td>Food Supply - Livestock and Fish Primary Equiv...</td>\n",
       "      <td>1</td>\n",
       "      <td>Armenia</td>\n",
       "      <td>511</td>\n",
       "      <td>Total Population - Both sexes</td>\n",
       "      <td>2501</td>\n",
       "      <td>Population</td>\n",
       "      <td>1993</td>\n",
       "      <td>3370</td>\n",
       "      <td>NaN</td>\n",
       "      <td>Official data</td>\n",
       "    </tr>\n",
       "    <tr>\n",
       "      <th>2</th>\n",
       "      <td>CL</td>\n",
       "      <td>Food Supply - Livestock and Fish Primary Equiv...</td>\n",
       "      <td>1</td>\n",
       "      <td>Armenia</td>\n",
       "      <td>511</td>\n",
       "      <td>Total Population - Both sexes</td>\n",
       "      <td>2501</td>\n",
       "      <td>Population</td>\n",
       "      <td>1994</td>\n",
       "      <td>3290</td>\n",
       "      <td>NaN</td>\n",
       "      <td>Official data</td>\n",
       "    </tr>\n",
       "    <tr>\n",
       "      <th>3</th>\n",
       "      <td>CL</td>\n",
       "      <td>Food Supply - Livestock and Fish Primary Equiv...</td>\n",
       "      <td>1</td>\n",
       "      <td>Armenia</td>\n",
       "      <td>511</td>\n",
       "      <td>Total Population - Both sexes</td>\n",
       "      <td>2501</td>\n",
       "      <td>Population</td>\n",
       "      <td>1995</td>\n",
       "      <td>3223</td>\n",
       "      <td>NaN</td>\n",
       "      <td>Official data</td>\n",
       "    </tr>\n",
       "    <tr>\n",
       "      <th>4</th>\n",
       "      <td>CL</td>\n",
       "      <td>Food Supply - Livestock and Fish Primary Equiv...</td>\n",
       "      <td>1</td>\n",
       "      <td>Armenia</td>\n",
       "      <td>511</td>\n",
       "      <td>Total Population - Both sexes</td>\n",
       "      <td>2501</td>\n",
       "      <td>Population</td>\n",
       "      <td>1996</td>\n",
       "      <td>3173</td>\n",
       "      <td>NaN</td>\n",
       "      <td>Official data</td>\n",
       "    </tr>\n",
       "  </tbody>\n",
       "</table>\n",
       "</div>"
      ],
      "text/plain": [
       "  IDomain Code                                             Domain  AreaCode  \\\n",
       "0           CL  Food Supply - Livestock and Fish Primary Equiv...         1   \n",
       "1           CL  Food Supply - Livestock and Fish Primary Equiv...         1   \n",
       "2           CL  Food Supply - Livestock and Fish Primary Equiv...         1   \n",
       "3           CL  Food Supply - Livestock and Fish Primary Equiv...         1   \n",
       "4           CL  Food Supply - Livestock and Fish Primary Equiv...         1   \n",
       "\n",
       "  AreaName  ElementCode                    ElementName  ItemCode    ItemName  \\\n",
       "0  Armenia          511  Total Population - Both sexes      2501  Population   \n",
       "1  Armenia          511  Total Population - Both sexes      2501  Population   \n",
       "2  Armenia          511  Total Population - Both sexes      2501  Population   \n",
       "3  Armenia          511  Total Population - Both sexes      2501  Population   \n",
       "4  Armenia          511  Total Population - Both sexes      2501  Population   \n",
       "\n",
       "   Year  Value Flag          FlagD  \n",
       "0  1992   3449  NaN  Official data  \n",
       "1  1993   3370  NaN  Official data  \n",
       "2  1994   3290  NaN  Official data  \n",
       "3  1995   3223  NaN  Official data  \n",
       "4  1996   3173  NaN  Official data  "
      ]
     },
     "execution_count": 75,
     "metadata": {},
     "output_type": "execute_result"
    }
   ],
   "source": [
    "#Explore data\n",
    "meat_fish_data.head()"
   ]
  },
  {
   "cell_type": "code",
   "execution_count": 76,
   "metadata": {
    "collapsed": false
   },
   "outputs": [
    {
     "name": "stdout",
     "output_type": "stream",
     "text": [
      "['Total Population - Both sexes' 'Food supply quantity (tonnes)'\n",
      " 'Food supply quantity (kg/capita/yr)'\n",
      " 'Food supply quantity (g/capita/day)' 'Food supply (kcal/capita/day)'\n",
      " 'Protein supply quantity (g/capita/day)'\n",
      " 'Fat supply quantity (g/capita/day)' nan]\n"
     ]
    }
   ],
   "source": [
    "print meat_fish_data.ElementName.unique()"
   ]
  },
  {
   "cell_type": "code",
   "execution_count": 77,
   "metadata": {
    "collapsed": false
   },
   "outputs": [
    {
     "name": "stdout",
     "output_type": "stream",
     "text": [
      "[nan 'S' 'A' 'Fc']\n"
     ]
    }
   ],
   "source": [
    "print meat_fish_data.Flag.unique()"
   ]
  },
  {
   "cell_type": "code",
   "execution_count": 78,
   "metadata": {
    "collapsed": false
   },
   "outputs": [
    {
     "name": "stdout",
     "output_type": "stream",
     "text": [
      "[ 1992.  1993.  1994.  1995.  1996.  1997.  1998.  1999.  2000.  2001.\n",
      "  2002.  2003.  2004.  2005.  2006.  2007.  2008.  2009.  2010.  2011.\n",
      "  1961.  1962.  1963.  1964.  1965.  1966.  1967.  1968.  1969.  1970.\n",
      "  1971.  1972.  1973.  1974.  1975.  1976.  1977.  1978.  1979.  1980.\n",
      "  1981.  1982.  1983.  1984.  1985.  1986.  1987.  1988.  1989.  1990.\n",
      "  1991.  2012.  2013.    nan]\n"
     ]
    }
   ],
   "source": [
    "print meat_fish_data.Year.unique()"
   ]
  },
  {
   "cell_type": "code",
   "execution_count": 79,
   "metadata": {
    "collapsed": false
   },
   "outputs": [
    {
     "name": "stdout",
     "output_type": "stream",
     "text": [
      "['Bovine Meat' 'Mutton & Goat Meat' 'Pigmeat' 'Poultry Meat' 'Meat, Other'\n",
      " 'Offals, Edible' 'Fats, Animals, Raw' 'Milk, Whole' 'Butter, Ghee'\n",
      " 'Cheese' 'Cream' 'Eggs' 'Honey' 'Freshwater Fish' 'Demersal Fish'\n",
      " 'Pelagic Fish' 'Marine Fish, Other' 'Crustaceans' 'Cephalopods'\n",
      " 'Molluscs, Other' 'Aquatic Plants' 'Fish, Body Oil' 'Fish, Liver Oil'\n",
      " 'Milk - Excluding Butter' 'Meat' 'Offals' 'Animal fats' 'Fish, Seafood'\n",
      " 'Aquatic Products, Other' 'Animal Products' 'Aquatic Animals, Others'\n",
      " 'Whey' 'Meat Meal' 'Meat, Aquatic Mammals' 'Hides and skins']\n"
     ]
    }
   ],
   "source": [
    "#ItemNames\n",
    "meat_items = meat_fish_data.ItemName.unique()\n",
    "#Get rid of \"population\" and \"nan\"\n",
    "meat_items = meat_items[1:-1]\n",
    "#Get rid of Grand Total\n",
    "meat_items = meat_items[np.not_equal(meat_items, 'Grand Total')]\n",
    "print meat_items"
   ]
  },
  {
   "cell_type": "code",
   "execution_count": 80,
   "metadata": {
    "collapsed": false
   },
   "outputs": [],
   "source": [
    "# Want to get, for each type of data, for each country:\n",
    "#The values for the decade before 2012.  This could be a sum.\n",
    "#Probably also want the NaN count\n",
    "\n",
    "#Try subsetting just \"Fish, Seafood\", \n",
    "#'Food supply quantity (kg/capita/yr)'\n",
    "#Decade before 2012?\n",
    "\n",
    "# for meat_name in meat_items:\n",
    "combined_mask = meat_fish_data.ItemName.isin(meat_items) & \\\n",
    "    meat_fish_data.ElementName.isin(['Food supply quantity (kg/capita/yr)']) & \\\n",
    "    (meat_fish_data.Year <= 2000) & \\\n",
    "    (meat_fish_data.Year >= 1990)\n",
    "meat_subset = meat_fish_data[combined_mask]"
   ]
  },
  {
   "cell_type": "code",
   "execution_count": 81,
   "metadata": {
    "collapsed": false
   },
   "outputs": [
    {
     "data": {
      "text/plain": [
       "IDomain Code    71466\n",
       "Domain          71466\n",
       "AreaCode        71466\n",
       "AreaName        71466\n",
       "ElementCode     71466\n",
       "ElementName     71466\n",
       "ItemCode        71466\n",
       "ItemName        71466\n",
       "Year            71466\n",
       "Value           71466\n",
       "Flag            71466\n",
       "FlagD           71466\n",
       "dtype: int64"
      ]
     },
     "execution_count": 81,
     "metadata": {},
     "output_type": "execute_result"
    }
   ],
   "source": [
    "meat_subset.count()"
   ]
  },
  {
   "cell_type": "code",
   "execution_count": 82,
   "metadata": {
    "collapsed": false
   },
   "outputs": [
    {
     "data": {
      "text/html": [
       "<div>\n",
       "<table border=\"1\" class=\"dataframe\">\n",
       "  <thead>\n",
       "    <tr style=\"text-align: right;\">\n",
       "      <th></th>\n",
       "      <th>IDomain Code</th>\n",
       "      <th>Domain</th>\n",
       "      <th>AreaCode</th>\n",
       "      <th>AreaName</th>\n",
       "      <th>ElementCode</th>\n",
       "      <th>ElementName</th>\n",
       "      <th>ItemCode</th>\n",
       "      <th>ItemName</th>\n",
       "      <th>Year</th>\n",
       "      <th>Value</th>\n",
       "      <th>Flag</th>\n",
       "      <th>FlagD</th>\n",
       "    </tr>\n",
       "  </thead>\n",
       "  <tbody>\n",
       "    <tr>\n",
       "      <th>640</th>\n",
       "      <td>CL</td>\n",
       "      <td>Food Supply - Livestock and Fish Primary Equiv...</td>\n",
       "      <td>1</td>\n",
       "      <td>Armenia</td>\n",
       "      <td>645</td>\n",
       "      <td>Food supply quantity (kg/capita/yr)</td>\n",
       "      <td>2731</td>\n",
       "      <td>Bovine Meat</td>\n",
       "      <td>1992</td>\n",
       "      <td>7.92</td>\n",
       "      <td>Fc</td>\n",
       "      <td>Calculated data</td>\n",
       "    </tr>\n",
       "    <tr>\n",
       "      <th>641</th>\n",
       "      <td>CL</td>\n",
       "      <td>Food Supply - Livestock and Fish Primary Equiv...</td>\n",
       "      <td>1</td>\n",
       "      <td>Armenia</td>\n",
       "      <td>645</td>\n",
       "      <td>Food supply quantity (kg/capita/yr)</td>\n",
       "      <td>2731</td>\n",
       "      <td>Bovine Meat</td>\n",
       "      <td>1993</td>\n",
       "      <td>12.40</td>\n",
       "      <td>Fc</td>\n",
       "      <td>Calculated data</td>\n",
       "    </tr>\n",
       "    <tr>\n",
       "      <th>642</th>\n",
       "      <td>CL</td>\n",
       "      <td>Food Supply - Livestock and Fish Primary Equiv...</td>\n",
       "      <td>1</td>\n",
       "      <td>Armenia</td>\n",
       "      <td>645</td>\n",
       "      <td>Food supply quantity (kg/capita/yr)</td>\n",
       "      <td>2731</td>\n",
       "      <td>Bovine Meat</td>\n",
       "      <td>1994</td>\n",
       "      <td>14.29</td>\n",
       "      <td>Fc</td>\n",
       "      <td>Calculated data</td>\n",
       "    </tr>\n",
       "    <tr>\n",
       "      <th>643</th>\n",
       "      <td>CL</td>\n",
       "      <td>Food Supply - Livestock and Fish Primary Equiv...</td>\n",
       "      <td>1</td>\n",
       "      <td>Armenia</td>\n",
       "      <td>645</td>\n",
       "      <td>Food supply quantity (kg/capita/yr)</td>\n",
       "      <td>2731</td>\n",
       "      <td>Bovine Meat</td>\n",
       "      <td>1995</td>\n",
       "      <td>16.54</td>\n",
       "      <td>Fc</td>\n",
       "      <td>Calculated data</td>\n",
       "    </tr>\n",
       "    <tr>\n",
       "      <th>644</th>\n",
       "      <td>CL</td>\n",
       "      <td>Food Supply - Livestock and Fish Primary Equiv...</td>\n",
       "      <td>1</td>\n",
       "      <td>Armenia</td>\n",
       "      <td>645</td>\n",
       "      <td>Food supply quantity (kg/capita/yr)</td>\n",
       "      <td>2731</td>\n",
       "      <td>Bovine Meat</td>\n",
       "      <td>1996</td>\n",
       "      <td>10.37</td>\n",
       "      <td>Fc</td>\n",
       "      <td>Calculated data</td>\n",
       "    </tr>\n",
       "  </tbody>\n",
       "</table>\n",
       "</div>"
      ],
      "text/plain": [
       "    IDomain Code                                             Domain  AreaCode  \\\n",
       "640           CL  Food Supply - Livestock and Fish Primary Equiv...         1   \n",
       "641           CL  Food Supply - Livestock and Fish Primary Equiv...         1   \n",
       "642           CL  Food Supply - Livestock and Fish Primary Equiv...         1   \n",
       "643           CL  Food Supply - Livestock and Fish Primary Equiv...         1   \n",
       "644           CL  Food Supply - Livestock and Fish Primary Equiv...         1   \n",
       "\n",
       "    AreaName  ElementCode                          ElementName  ItemCode  \\\n",
       "640  Armenia          645  Food supply quantity (kg/capita/yr)      2731   \n",
       "641  Armenia          645  Food supply quantity (kg/capita/yr)      2731   \n",
       "642  Armenia          645  Food supply quantity (kg/capita/yr)      2731   \n",
       "643  Armenia          645  Food supply quantity (kg/capita/yr)      2731   \n",
       "644  Armenia          645  Food supply quantity (kg/capita/yr)      2731   \n",
       "\n",
       "        ItemName  Year  Value Flag            FlagD  \n",
       "640  Bovine Meat  1992   7.92   Fc  Calculated data  \n",
       "641  Bovine Meat  1993  12.40   Fc  Calculated data  \n",
       "642  Bovine Meat  1994  14.29   Fc  Calculated data  \n",
       "643  Bovine Meat  1995  16.54   Fc  Calculated data  \n",
       "644  Bovine Meat  1996  10.37   Fc  Calculated data  "
      ]
     },
     "execution_count": 82,
     "metadata": {},
     "output_type": "execute_result"
    }
   ],
   "source": [
    "meat_subset.head()"
   ]
  },
  {
   "cell_type": "code",
   "execution_count": 83,
   "metadata": {
    "collapsed": false
   },
   "outputs": [
    {
     "name": "stdout",
     "output_type": "stream",
     "text": [
      "['Armenia' 'Afghanistan' 'Albania' 'Algeria' 'Angola' 'Antigua and Barbuda'\n",
      " 'Argentina' 'Australia' 'Austria' 'Bahamas' 'Barbados'\n",
      " 'Belgium-Luxembourg' 'Bangladesh' 'Bermuda'\n",
      " 'Bolivia (Plurinational State of)' 'Botswana' 'Brazil' 'Belize'\n",
      " 'Solomon Islands' 'Brunei Darussalam' 'Bulgaria' 'Myanmar' 'Cameroon'\n",
      " 'Canada' 'Cabo Verde' 'Central African Republic' 'Sri Lanka' 'Chad'\n",
      " 'Chile' 'China, mainland' 'Colombia' 'Congo' 'Costa Rica' 'Cuba' 'Cyprus'\n",
      " 'Czechoslovakia' 'Azerbaijan' 'Benin' 'Denmark' 'Dominica'\n",
      " 'Dominican Republic' 'Belarus' 'Ecuador' 'Egypt' 'El Salvador'\n",
      " 'Ethiopia PDR' 'Estonia' 'Fiji' 'Finland' 'France' 'French Polynesia'\n",
      " 'Djibouti' 'Georgia' 'Gabon' 'Gambia' 'Germany' 'Bosnia and Herzegovina'\n",
      " 'Ghana' 'Kiribati' 'Greece' 'Grenada' 'Guatemala' 'Guinea' 'Guyana'\n",
      " 'Haiti' 'Honduras' 'China, Hong Kong SAR' 'Hungary' 'Croatia' 'Iceland'\n",
      " 'India' 'Indonesia' 'Iran (Islamic Republic of)' 'Iraq' 'Ireland' 'Israel'\n",
      " 'Italy' \"C\\xc3\\xb4te d'Ivoire\" 'Kazakhstan' 'Jamaica' 'Japan' 'Jordan'\n",
      " 'Kyrgyzstan' 'Kenya' 'Cambodia' \"Democratic People's Republic of Korea\"\n",
      " 'Republic of Korea' 'Kuwait' 'Latvia' \"Lao People's Democratic Republic\"\n",
      " 'Lebanon' 'Lesotho' 'Liberia' 'Lithuania' 'China, Macao SAR' 'Madagascar'\n",
      " 'Malawi' 'Malaysia' 'Maldives' 'Mali' 'Malta' 'Mauritania' 'Mauritius'\n",
      " 'Mexico' 'Mongolia' 'Morocco' 'Mozambique' 'Republic of Moldova' 'Namibia'\n",
      " 'Nepal' 'Netherlands' 'Netherlands Antilles' 'New Caledonia'\n",
      " 'The former Yugoslav Republic of Macedonia' 'Vanuatu' 'New Zealand'\n",
      " 'Nicaragua' 'Niger' 'Nigeria' 'Norway' 'Pakistan' 'Panama'\n",
      " 'Czech Republic' 'Paraguay' 'Peru' 'Philippines' 'Poland' 'Portugal'\n",
      " 'Guinea-Bissau' 'Timor-Leste' 'Zimbabwe' 'Romania' 'Rwanda'\n",
      " 'Russian Federation' 'Serbia and Montenegro' 'Saint Kitts and Nevis'\n",
      " 'Saint Lucia' 'Saint Vincent and the Grenadines' 'Sao Tome and Principe'\n",
      " 'Saudi Arabia' 'Senegal' 'Sierra Leone' 'Slovenia' 'Slovakia'\n",
      " 'South Africa' 'Spain' 'Sudan (former)' 'Suriname' 'Tajikistan'\n",
      " 'Swaziland' 'Sweden' 'Switzerland' 'Turkmenistan'\n",
      " 'China, Taiwan Province of' 'United Republic of Tanzania' 'Thailand'\n",
      " 'Togo' 'Trinidad and Tobago' 'Oman' 'Tunisia' 'Turkey'\n",
      " 'United Arab Emirates' 'Uganda' 'USSR' 'United Kingdom' 'Ukraine'\n",
      " 'United States of America' 'Burkina Faso' 'Uruguay' 'Uzbekistan'\n",
      " 'Venezuela (Bolivarian Republic of)' 'Viet Nam' 'Ethiopia' 'Samoa'\n",
      " 'Yugoslav SFR' 'Yemen' 'Zambia' 'Belgium' 'Luxembourg' 'China' 'World'\n",
      " 'Africa' 'Eastern Africa' 'Middle Africa' 'Northern Africa'\n",
      " 'Southern Africa' 'Western Africa' 'Americas' 'Northern America'\n",
      " 'Central America' 'Caribbean' 'South America' 'Asia' 'Central Asia'\n",
      " 'Eastern Asia' 'Southern Asia' 'South-Eastern Asia' 'Western Asia'\n",
      " 'Europe' 'Eastern Europe' 'Northern Europe' 'Southern Europe'\n",
      " 'Western Europe' 'Oceania' 'Australia & New Zealand' 'Melanesia'\n",
      " 'Micronesia' 'Polynesia' 'European Union' 'Least Developed Countries'\n",
      " 'Land Locked Developing Countries' 'Small Island Developing States'\n",
      " 'Low Income Food Deficit Countries'\n",
      " 'Net Food Importing Developing Countries']\n"
     ]
    }
   ],
   "source": [
    "#List of countries\n",
    "meat_countries = meat_subset.AreaName.unique()\n",
    "print meat_countries"
   ]
  },
  {
   "cell_type": "markdown",
   "metadata": {},
   "source": [
    "## From working with just one type of meat"
   ]
  },
  {
   "cell_type": "code",
   "execution_count": 84,
   "metadata": {
    "collapsed": false
   },
   "outputs": [],
   "source": [
    "# #Starting to practice subsetting data\n",
    "# # df2[df2['E'].isin(['two','four'])]\n",
    "\n",
    "# #Try subsetting just \"Fish, Seafood\", \n",
    "# #'Food supply quantity (kg/capita/yr)'\n",
    "# #Decade before 2012?\n",
    "# combined_mask = meat_fish_data.ItemName.isin(['Bovine Meat']) & \\\n",
    "#     meat_fish_data.ElementName.isin(['Food supply quantity (kg/capita/yr)']) & \\\n",
    "#     (meat_fish_data.Year == 2012)# & \\\n",
    "# #     (meat_fish_data.Year <= 2012)\n",
    "# fish_2012 = meat_fish_data[combined_mask]"
   ]
  },
  {
   "cell_type": "code",
   "execution_count": 85,
   "metadata": {
    "collapsed": false
   },
   "outputs": [],
   "source": [
    "# fish_2012.head()"
   ]
  },
  {
   "cell_type": "code",
   "execution_count": 86,
   "metadata": {
    "collapsed": false
   },
   "outputs": [],
   "source": [
    "# fish_2012.count()"
   ]
  },
  {
   "cell_type": "code",
   "execution_count": 87,
   "metadata": {
    "collapsed": false
   },
   "outputs": [],
   "source": [
    "#Countries\n",
    "#print meat_fish_data.AreaName.unique()"
   ]
  },
  {
   "cell_type": "markdown",
   "metadata": {},
   "source": [
    "# Combine (meat and crop) and cardio data"
   ]
  },
  {
   "cell_type": "code",
   "execution_count": 88,
   "metadata": {
    "collapsed": false
   },
   "outputs": [
    {
     "data": {
      "text/plain": [
       "IDomain Code    0\n",
       "Domain          0\n",
       "AreaCode        0\n",
       "AreaName        0\n",
       "ElementCode     0\n",
       "ElementName     0\n",
       "ItemCode        0\n",
       "ItemName        0\n",
       "Year            0\n",
       "Value           0\n",
       "Flag            0\n",
       "FlagD           0\n",
       "dtype: int64"
      ]
     },
     "execution_count": 88,
     "metadata": {},
     "output_type": "execute_result"
    }
   ],
   "source": [
    "# country_index_cardio = cardio_countries.isin(meat_subset.AreaName)\n",
    "# print country_index\n",
    "# np.shape(country_index) #172\n",
    "# np.sum(country_index) #154\n",
    "\n",
    "# pd.set_option('display.max_rows', 50)\n",
    "meat_subset.head()\n",
    "\n",
    "#See about 2012 fish data before summing\n",
    "fish_2012_mask = meat_subset.ItemName.isin(['Fish, Seafood']) & meat_subset.Year.isin([2003])\n",
    "meat_subset[fish_2012_mask].count()"
   ]
  },
  {
   "cell_type": "code",
   "execution_count": 89,
   "metadata": {
    "collapsed": true
   },
   "outputs": [],
   "source": [
    "#This is somewhat naive; I didn't look for years with missing data.  If they exist, I should probably use an average instead.\n",
    "#12/14/16:  trying pandas mean, which ignores NaNs, instead of sum\n",
    "\n",
    "# Use group by to get sums for 2002:2012 meat consumption, subset this to the list of countries\n",
    "# in the cardio data, then add the cardio data as a column\n",
    "#.reset_index() prevents a hierarchical index\n",
    "\n",
    "meat_sums = meat_subset.groupby(['AreaName', 'ItemName'], as_index=False).mean()\n",
    "crop_sums = crop_subset.groupby(['AreaName', 'ItemName'], as_index=False).mean()\n",
    "#After much head scratching about the index of the resulting array, I see the above\n",
    "#is what I want, not the below.  From Pandas help for groupby\n",
    "# meat_sums = meat_subset.groupby(['AreaName', 'ItemName']).sum()"
   ]
  },
  {
   "cell_type": "code",
   "execution_count": 90,
   "metadata": {
    "collapsed": false
   },
   "outputs": [
    {
     "data": {
      "text/html": [
       "<div>\n",
       "<table border=\"1\" class=\"dataframe\">\n",
       "  <thead>\n",
       "    <tr style=\"text-align: right;\">\n",
       "      <th>ItemName</th>\n",
       "      <th>Animal fats</th>\n",
       "      <th>Aquatic Animals, Others</th>\n",
       "      <th>Aquatic Plants</th>\n",
       "      <th>Aquatic Products, Other</th>\n",
       "      <th>Bovine Meat</th>\n",
       "      <th>Butter, Ghee</th>\n",
       "      <th>Cephalopods</th>\n",
       "      <th>Cheese</th>\n",
       "      <th>Cream</th>\n",
       "      <th>Crustaceans</th>\n",
       "      <th>...</th>\n",
       "      <th>Milk - Excluding Butter</th>\n",
       "      <th>Milk, Whole</th>\n",
       "      <th>Molluscs, Other</th>\n",
       "      <th>Mutton &amp; Goat Meat</th>\n",
       "      <th>Offals</th>\n",
       "      <th>Offals, Edible</th>\n",
       "      <th>Pelagic Fish</th>\n",
       "      <th>Pigmeat</th>\n",
       "      <th>Poultry Meat</th>\n",
       "      <th>Whey</th>\n",
       "    </tr>\n",
       "    <tr>\n",
       "      <th>AreaName</th>\n",
       "      <th></th>\n",
       "      <th></th>\n",
       "      <th></th>\n",
       "      <th></th>\n",
       "      <th></th>\n",
       "      <th></th>\n",
       "      <th></th>\n",
       "      <th></th>\n",
       "      <th></th>\n",
       "      <th></th>\n",
       "      <th></th>\n",
       "      <th></th>\n",
       "      <th></th>\n",
       "      <th></th>\n",
       "      <th></th>\n",
       "      <th></th>\n",
       "      <th></th>\n",
       "      <th></th>\n",
       "      <th></th>\n",
       "      <th></th>\n",
       "      <th></th>\n",
       "    </tr>\n",
       "  </thead>\n",
       "  <tbody>\n",
       "    <tr>\n",
       "      <th>Afghanistan</th>\n",
       "      <td>2.516364</td>\n",
       "      <td>NaN</td>\n",
       "      <td>NaN</td>\n",
       "      <td>NaN</td>\n",
       "      <td>7.226364</td>\n",
       "      <td>1.521818</td>\n",
       "      <td>NaN</td>\n",
       "      <td>1.228182</td>\n",
       "      <td>0.000000</td>\n",
       "      <td>NaN</td>\n",
       "      <td>...</td>\n",
       "      <td>73.140909</td>\n",
       "      <td>39.945455</td>\n",
       "      <td>NaN</td>\n",
       "      <td>9.042727</td>\n",
       "      <td>2.981818</td>\n",
       "      <td>2.981818</td>\n",
       "      <td>NaN</td>\n",
       "      <td>NaN</td>\n",
       "      <td>0.791818</td>\n",
       "      <td>NaN</td>\n",
       "    </tr>\n",
       "    <tr>\n",
       "      <th>Africa</th>\n",
       "      <td>0.895455</td>\n",
       "      <td>0.003636</td>\n",
       "      <td>0</td>\n",
       "      <td>0.003636</td>\n",
       "      <td>5.995455</td>\n",
       "      <td>0.446364</td>\n",
       "      <td>0.028182</td>\n",
       "      <td>0.967273</td>\n",
       "      <td>0.008182</td>\n",
       "      <td>0.100000</td>\n",
       "      <td>...</td>\n",
       "      <td>35.503636</td>\n",
       "      <td>27.361818</td>\n",
       "      <td>0.024545</td>\n",
       "      <td>2.546364</td>\n",
       "      <td>1.613636</td>\n",
       "      <td>1.610909</td>\n",
       "      <td>2.919091</td>\n",
       "      <td>1.034545</td>\n",
       "      <td>3.602727</td>\n",
       "      <td>0.229091</td>\n",
       "    </tr>\n",
       "    <tr>\n",
       "      <th>Albania</th>\n",
       "      <td>2.654545</td>\n",
       "      <td>0.000000</td>\n",
       "      <td>0</td>\n",
       "      <td>0.000000</td>\n",
       "      <td>10.411818</td>\n",
       "      <td>1.326364</td>\n",
       "      <td>0.023636</td>\n",
       "      <td>3.584545</td>\n",
       "      <td>0.010909</td>\n",
       "      <td>0.010000</td>\n",
       "      <td>...</td>\n",
       "      <td>223.775455</td>\n",
       "      <td>187.032727</td>\n",
       "      <td>0.262727</td>\n",
       "      <td>4.827273</td>\n",
       "      <td>3.133636</td>\n",
       "      <td>3.089091</td>\n",
       "      <td>0.473636</td>\n",
       "      <td>4.216364</td>\n",
       "      <td>4.220000</td>\n",
       "      <td>NaN</td>\n",
       "    </tr>\n",
       "    <tr>\n",
       "      <th>Algeria</th>\n",
       "      <td>1.225455</td>\n",
       "      <td>0.000000</td>\n",
       "      <td>0</td>\n",
       "      <td>0.000000</td>\n",
       "      <td>4.231818</td>\n",
       "      <td>0.867273</td>\n",
       "      <td>0.028182</td>\n",
       "      <td>0.361818</td>\n",
       "      <td>NaN</td>\n",
       "      <td>0.080909</td>\n",
       "      <td>...</td>\n",
       "      <td>99.398182</td>\n",
       "      <td>62.881818</td>\n",
       "      <td>0.000000</td>\n",
       "      <td>5.973636</td>\n",
       "      <td>1.279091</td>\n",
       "      <td>1.279091</td>\n",
       "      <td>2.979091</td>\n",
       "      <td>0.003636</td>\n",
       "      <td>7.400000</td>\n",
       "      <td>0.022727</td>\n",
       "    </tr>\n",
       "    <tr>\n",
       "      <th>Americas</th>\n",
       "      <td>4.097273</td>\n",
       "      <td>0.020909</td>\n",
       "      <td>0</td>\n",
       "      <td>0.020909</td>\n",
       "      <td>30.738182</td>\n",
       "      <td>1.133636</td>\n",
       "      <td>0.249091</td>\n",
       "      <td>6.255455</td>\n",
       "      <td>0.238182</td>\n",
       "      <td>1.666364</td>\n",
       "      <td>...</td>\n",
       "      <td>159.913636</td>\n",
       "      <td>93.463636</td>\n",
       "      <td>1.545455</td>\n",
       "      <td>0.798182</td>\n",
       "      <td>2.437273</td>\n",
       "      <td>2.437273</td>\n",
       "      <td>2.927273</td>\n",
       "      <td>16.504545</td>\n",
       "      <td>26.822727</td>\n",
       "      <td>7.318182</td>\n",
       "    </tr>\n",
       "  </tbody>\n",
       "</table>\n",
       "<p>5 rows × 34 columns</p>\n",
       "</div>"
      ],
      "text/plain": [
       "ItemName     Animal fats  Aquatic Animals, Others  Aquatic Plants  \\\n",
       "AreaName                                                            \n",
       "Afghanistan     2.516364                      NaN             NaN   \n",
       "Africa          0.895455                 0.003636               0   \n",
       "Albania         2.654545                 0.000000               0   \n",
       "Algeria         1.225455                 0.000000               0   \n",
       "Americas        4.097273                 0.020909               0   \n",
       "\n",
       "ItemName     Aquatic Products, Other  Bovine Meat  Butter, Ghee  Cephalopods  \\\n",
       "AreaName                                                                       \n",
       "Afghanistan                      NaN     7.226364      1.521818          NaN   \n",
       "Africa                      0.003636     5.995455      0.446364     0.028182   \n",
       "Albania                     0.000000    10.411818      1.326364     0.023636   \n",
       "Algeria                     0.000000     4.231818      0.867273     0.028182   \n",
       "Americas                    0.020909    30.738182      1.133636     0.249091   \n",
       "\n",
       "ItemName       Cheese     Cream  Crustaceans    ...     \\\n",
       "AreaName                                        ...      \n",
       "Afghanistan  1.228182  0.000000          NaN    ...      \n",
       "Africa       0.967273  0.008182     0.100000    ...      \n",
       "Albania      3.584545  0.010909     0.010000    ...      \n",
       "Algeria      0.361818       NaN     0.080909    ...      \n",
       "Americas     6.255455  0.238182     1.666364    ...      \n",
       "\n",
       "ItemName     Milk - Excluding Butter  Milk, Whole  Molluscs, Other  \\\n",
       "AreaName                                                             \n",
       "Afghanistan                73.140909    39.945455              NaN   \n",
       "Africa                     35.503636    27.361818         0.024545   \n",
       "Albania                   223.775455   187.032727         0.262727   \n",
       "Algeria                    99.398182    62.881818         0.000000   \n",
       "Americas                  159.913636    93.463636         1.545455   \n",
       "\n",
       "ItemName     Mutton & Goat Meat    Offals  Offals, Edible  Pelagic Fish  \\\n",
       "AreaName                                                                  \n",
       "Afghanistan            9.042727  2.981818        2.981818           NaN   \n",
       "Africa                 2.546364  1.613636        1.610909      2.919091   \n",
       "Albania                4.827273  3.133636        3.089091      0.473636   \n",
       "Algeria                5.973636  1.279091        1.279091      2.979091   \n",
       "Americas               0.798182  2.437273        2.437273      2.927273   \n",
       "\n",
       "ItemName       Pigmeat  Poultry Meat      Whey  \n",
       "AreaName                                        \n",
       "Afghanistan        NaN      0.791818       NaN  \n",
       "Africa        1.034545      3.602727  0.229091  \n",
       "Albania       4.216364      4.220000       NaN  \n",
       "Algeria       0.003636      7.400000  0.022727  \n",
       "Americas     16.504545     26.822727  7.318182  \n",
       "\n",
       "[5 rows x 34 columns]"
      ]
     },
     "execution_count": 90,
     "metadata": {},
     "output_type": "execute_result"
    }
   ],
   "source": [
    "#Get rid of meaningless sums\n",
    "meat_sums = meat_sums.drop(['AreaCode', 'ElementCode', 'ItemCode', 'Year'], axis=1)\n",
    "crop_sums = crop_sums.drop(['AreaCode', 'ElementCode', 'ItemCode', 'Year'], axis=1)\n",
    "\n",
    "#\"pivot\" so that countries are rows and Item names are columns\n",
    "meat_sums = meat_sums.pivot(index='AreaName', columns='ItemName', values='Value')\n",
    "crop_sums = crop_sums.pivot(index='AreaName', columns='ItemName', values='Value')\n",
    "\n",
    "# df = pd.DataFrame(np.random.randn(8, 2), index=index, columns=['A', 'B'])\n",
    "\n",
    "# meat_sums.unstack(['ItemName'])\n",
    "\n",
    "# meat_sums['AreaName']\n",
    "\n",
    "# meat_sums.reset_index(level=['AreaName'])\n",
    "\n",
    "# meat_sums['AreaName'] = meat_sums.index\n",
    "meat_sums.head()\n",
    "# for item in meat_sums.index:\n",
    "#     print item\n",
    "# meat_sums.values\n",
    "\n",
    "#This seems very close to the final product, in terms of the data matrix.  The only thing\n",
    "#left is to drop countries not in the common list, and to add the column for cardio disease\n",
    "\n",
    "#A thought on NaNs:\n",
    "#I suspect that NaNs were dropped when doing the sums; I think NaN here means that a country\n",
    "#Has no data for a particular food item.  I suppose it makes sense to then assume that that\n",
    "#item is zero for that country, if they had none of it from 2002-2012.  In contrast, what\n",
    "#if a country is simply missing one year from the desired range?  In that case, it does not\n",
    "#seem reasonable to assume it's zero.  However for this, I will likely ignore it."
   ]
  },
  {
   "cell_type": "code",
   "execution_count": 91,
   "metadata": {
    "collapsed": false
   },
   "outputs": [
    {
     "data": {
      "text/html": [
       "<div>\n",
       "<table border=\"1\" class=\"dataframe\">\n",
       "  <thead>\n",
       "    <tr style=\"text-align: right;\">\n",
       "      <th>ItemName</th>\n",
       "      <th>Alcoholic Beverages</th>\n",
       "      <th>Apples and products</th>\n",
       "      <th>Bananas</th>\n",
       "      <th>Barley and products</th>\n",
       "      <th>Beans</th>\n",
       "      <th>Beer</th>\n",
       "      <th>Beverages, Alcoholic</th>\n",
       "      <th>Beverages, Fermented</th>\n",
       "      <th>Cassava and products</th>\n",
       "      <th>Cereals - Excluding Beer</th>\n",
       "      <th>...</th>\n",
       "      <th>Sweeteners, Other</th>\n",
       "      <th>Tea (including mate)</th>\n",
       "      <th>Tomatoes and products</th>\n",
       "      <th>Treenuts</th>\n",
       "      <th>Vegetable Oils</th>\n",
       "      <th>Vegetables</th>\n",
       "      <th>Vegetables, Other</th>\n",
       "      <th>Wheat and products</th>\n",
       "      <th>Wine</th>\n",
       "      <th>Yams</th>\n",
       "    </tr>\n",
       "    <tr>\n",
       "      <th>AreaName</th>\n",
       "      <th></th>\n",
       "      <th></th>\n",
       "      <th></th>\n",
       "      <th></th>\n",
       "      <th></th>\n",
       "      <th></th>\n",
       "      <th></th>\n",
       "      <th></th>\n",
       "      <th></th>\n",
       "      <th></th>\n",
       "      <th></th>\n",
       "      <th></th>\n",
       "      <th></th>\n",
       "      <th></th>\n",
       "      <th></th>\n",
       "      <th></th>\n",
       "      <th></th>\n",
       "      <th></th>\n",
       "      <th></th>\n",
       "      <th></th>\n",
       "      <th></th>\n",
       "    </tr>\n",
       "  </thead>\n",
       "  <tbody>\n",
       "    <tr>\n",
       "      <th>Afghanistan</th>\n",
       "      <td>0.000000</td>\n",
       "      <td>0.830000</td>\n",
       "      <td>0.106364</td>\n",
       "      <td>8.318182</td>\n",
       "      <td>NaN</td>\n",
       "      <td>0.000000</td>\n",
       "      <td>0.000000</td>\n",
       "      <td>NaN</td>\n",
       "      <td>NaN</td>\n",
       "      <td>160.357273</td>\n",
       "      <td>...</td>\n",
       "      <td>0.001818</td>\n",
       "      <td>0.897273</td>\n",
       "      <td>0.000000</td>\n",
       "      <td>0.930000</td>\n",
       "      <td>2.628182</td>\n",
       "      <td>29.760909</td>\n",
       "      <td>29.760909</td>\n",
       "      <td>120.907273</td>\n",
       "      <td>0.000000</td>\n",
       "      <td>NaN</td>\n",
       "    </tr>\n",
       "    <tr>\n",
       "      <th>Africa</th>\n",
       "      <td>35.549091</td>\n",
       "      <td>1.440909</td>\n",
       "      <td>6.472727</td>\n",
       "      <td>4.281818</td>\n",
       "      <td>2.738182</td>\n",
       "      <td>8.542727</td>\n",
       "      <td>0.650000</td>\n",
       "      <td>25.460000</td>\n",
       "      <td>67.565455</td>\n",
       "      <td>146.670000</td>\n",
       "      <td>...</td>\n",
       "      <td>0.239091</td>\n",
       "      <td>0.340000</td>\n",
       "      <td>14.117273</td>\n",
       "      <td>0.978182</td>\n",
       "      <td>8.249091</td>\n",
       "      <td>53.850000</td>\n",
       "      <td>35.485455</td>\n",
       "      <td>47.035455</td>\n",
       "      <td>0.900909</td>\n",
       "      <td>20.902727</td>\n",
       "    </tr>\n",
       "    <tr>\n",
       "      <th>Albania</th>\n",
       "      <td>13.050909</td>\n",
       "      <td>6.370909</td>\n",
       "      <td>2.045455</td>\n",
       "      <td>0.210909</td>\n",
       "      <td>4.214545</td>\n",
       "      <td>7.866364</td>\n",
       "      <td>1.082727</td>\n",
       "      <td>0.030000</td>\n",
       "      <td>0.001818</td>\n",
       "      <td>191.995455</td>\n",
       "      <td>...</td>\n",
       "      <td>4.222727</td>\n",
       "      <td>0.021818</td>\n",
       "      <td>34.560000</td>\n",
       "      <td>1.786364</td>\n",
       "      <td>7.717273</td>\n",
       "      <td>139.020909</td>\n",
       "      <td>91.823636</td>\n",
       "      <td>176.316364</td>\n",
       "      <td>4.078182</td>\n",
       "      <td>NaN</td>\n",
       "    </tr>\n",
       "    <tr>\n",
       "      <th>Algeria</th>\n",
       "      <td>2.427273</td>\n",
       "      <td>2.153636</td>\n",
       "      <td>0.160000</td>\n",
       "      <td>19.361818</td>\n",
       "      <td>1.536364</td>\n",
       "      <td>2.407273</td>\n",
       "      <td>0.010000</td>\n",
       "      <td>0.000000</td>\n",
       "      <td>0.000000</td>\n",
       "      <td>211.516364</td>\n",
       "      <td>...</td>\n",
       "      <td>0.110000</td>\n",
       "      <td>0.209091</td>\n",
       "      <td>24.167273</td>\n",
       "      <td>0.750909</td>\n",
       "      <td>15.538182</td>\n",
       "      <td>76.642727</td>\n",
       "      <td>42.670909</td>\n",
       "      <td>186.400000</td>\n",
       "      <td>0.010000</td>\n",
       "      <td>NaN</td>\n",
       "    </tr>\n",
       "    <tr>\n",
       "      <th>Americas</th>\n",
       "      <td>65.459091</td>\n",
       "      <td>10.950000</td>\n",
       "      <td>17.626364</td>\n",
       "      <td>0.454545</td>\n",
       "      <td>6.914545</td>\n",
       "      <td>55.570000</td>\n",
       "      <td>3.618182</td>\n",
       "      <td>0.643636</td>\n",
       "      <td>14.353636</td>\n",
       "      <td>118.195455</td>\n",
       "      <td>...</td>\n",
       "      <td>13.073636</td>\n",
       "      <td>0.914545</td>\n",
       "      <td>23.696364</td>\n",
       "      <td>1.213636</td>\n",
       "      <td>16.436364</td>\n",
       "      <td>73.961818</td>\n",
       "      <td>42.764545</td>\n",
       "      <td>63.177273</td>\n",
       "      <td>5.630909</td>\n",
       "      <td>0.833636</td>\n",
       "    </tr>\n",
       "  </tbody>\n",
       "</table>\n",
       "<p>5 rows × 89 columns</p>\n",
       "</div>"
      ],
      "text/plain": [
       "ItemName     Alcoholic Beverages  Apples and products    Bananas  \\\n",
       "AreaName                                                           \n",
       "Afghanistan             0.000000             0.830000   0.106364   \n",
       "Africa                 35.549091             1.440909   6.472727   \n",
       "Albania                13.050909             6.370909   2.045455   \n",
       "Algeria                 2.427273             2.153636   0.160000   \n",
       "Americas               65.459091            10.950000  17.626364   \n",
       "\n",
       "ItemName     Barley and products     Beans       Beer  Beverages, Alcoholic  \\\n",
       "AreaName                                                                      \n",
       "Afghanistan             8.318182       NaN   0.000000              0.000000   \n",
       "Africa                  4.281818  2.738182   8.542727              0.650000   \n",
       "Albania                 0.210909  4.214545   7.866364              1.082727   \n",
       "Algeria                19.361818  1.536364   2.407273              0.010000   \n",
       "Americas                0.454545  6.914545  55.570000              3.618182   \n",
       "\n",
       "ItemName     Beverages, Fermented  Cassava and products  \\\n",
       "AreaName                                                  \n",
       "Afghanistan                   NaN                   NaN   \n",
       "Africa                  25.460000             67.565455   \n",
       "Albania                  0.030000              0.001818   \n",
       "Algeria                  0.000000              0.000000   \n",
       "Americas                 0.643636             14.353636   \n",
       "\n",
       "ItemName     Cereals - Excluding Beer    ...      Sweeteners, Other  \\\n",
       "AreaName                                 ...                          \n",
       "Afghanistan                160.357273    ...               0.001818   \n",
       "Africa                     146.670000    ...               0.239091   \n",
       "Albania                    191.995455    ...               4.222727   \n",
       "Algeria                    211.516364    ...               0.110000   \n",
       "Americas                   118.195455    ...              13.073636   \n",
       "\n",
       "ItemName     Tea (including mate)  Tomatoes and products  Treenuts  \\\n",
       "AreaName                                                             \n",
       "Afghanistan              0.897273               0.000000  0.930000   \n",
       "Africa                   0.340000              14.117273  0.978182   \n",
       "Albania                  0.021818              34.560000  1.786364   \n",
       "Algeria                  0.209091              24.167273  0.750909   \n",
       "Americas                 0.914545              23.696364  1.213636   \n",
       "\n",
       "ItemName     Vegetable Oils  Vegetables  Vegetables, Other  \\\n",
       "AreaName                                                     \n",
       "Afghanistan        2.628182   29.760909          29.760909   \n",
       "Africa             8.249091   53.850000          35.485455   \n",
       "Albania            7.717273  139.020909          91.823636   \n",
       "Algeria           15.538182   76.642727          42.670909   \n",
       "Americas          16.436364   73.961818          42.764545   \n",
       "\n",
       "ItemName     Wheat and products      Wine       Yams  \n",
       "AreaName                                              \n",
       "Afghanistan          120.907273  0.000000        NaN  \n",
       "Africa                47.035455  0.900909  20.902727  \n",
       "Albania              176.316364  4.078182        NaN  \n",
       "Algeria              186.400000  0.010000        NaN  \n",
       "Americas              63.177273  5.630909   0.833636  \n",
       "\n",
       "[5 rows x 89 columns]"
      ]
     },
     "execution_count": 91,
     "metadata": {},
     "output_type": "execute_result"
    }
   ],
   "source": [
    "crop_sums.head()"
   ]
  },
  {
   "cell_type": "code",
   "execution_count": 92,
   "metadata": {
    "collapsed": false
   },
   "outputs": [
    {
     "data": {
      "text/plain": [
       "(214, 123)"
      ]
     },
     "execution_count": 92,
     "metadata": {},
     "output_type": "execute_result"
    }
   ],
   "source": [
    "#Merge meat and crop\n",
    "all_food = pd.merge(meat_sums, crop_sums, right_index=True, left_index=True)\n",
    "all_food.shape\n",
    "# all_food.head()"
   ]
  },
  {
   "cell_type": "code",
   "execution_count": 93,
   "metadata": {
    "collapsed": false
   },
   "outputs": [],
   "source": [
    "#Export smaller versions of frames for practice in lab\n",
    "# meat_sums.head()\n",
    "# meat_sums.shape #(216, 34)\n",
    "# cardio_2012.head()\n",
    "\n",
    "# meat_sums['Animal fats'].values\n",
    "\n",
    "# cardio_2012['Age-standardized mortality rate by cause (per 100 000 population)'])\n",
    "\n",
    "# cheese = pd.concat([pd.Series(meat_sums.index), meat_sums['Cheese']])\n",
    "# cheese.head()\n",
    "# pd.Series(meat_sums.index)\n",
    "# cheese = pd.DataFrame(meat_sums['Cheese'])\n",
    "# cheese.head()\n",
    "# cheese.to_csv('cheese.csv')\n",
    "\n",
    "# cardio_disease = pd.DataFrame(cardio_2012['Age-standardized mortality rate by cause (per 100 000 population)'])\n",
    "# cardio_disease.head()\n",
    "# cardio_disease.to_csv('cardio_disease.csv')\n",
    "# meat_sums.index\n",
    "# pd.Series(meat_sums.index)\n",
    "\n"
   ]
  },
  {
   "cell_type": "code",
   "execution_count": 94,
   "metadata": {
    "collapsed": false,
    "scrolled": true
   },
   "outputs": [
    {
     "data": {
      "text/plain": [
       "ItemName\n",
       "Animal fats                                                          152\n",
       "Aquatic Animals, Others                                              152\n",
       "Aquatic Plants                                                       152\n",
       "Aquatic Products, Other                                              152\n",
       "Bovine Meat                                                          152\n",
       "Butter, Ghee                                                         152\n",
       "Cephalopods                                                          152\n",
       "Cheese                                                               152\n",
       "Cream                                                                152\n",
       "Crustaceans                                                          152\n",
       "Demersal Fish                                                        152\n",
       "Eggs                                                                 152\n",
       "Fats, Animals, Raw                                                   152\n",
       "Fish, Body Oil                                                       152\n",
       "Fish, Liver Oil                                                      152\n",
       "Fish, Seafood                                                        152\n",
       "Freshwater Fish                                                      152\n",
       "Hides and skins                                                      152\n",
       "Honey                                                                152\n",
       "Marine Fish, Other                                                   152\n",
       "Meat                                                                 152\n",
       "Meat Meal                                                            152\n",
       "Meat, Aquatic Mammals                                                152\n",
       "Meat, Other                                                          152\n",
       "Milk - Excluding Butter                                              152\n",
       "Milk, Whole                                                          152\n",
       "Molluscs, Other                                                      152\n",
       "Mutton & Goat Meat                                                   152\n",
       "Offals                                                               152\n",
       "Offals, Edible                                                       152\n",
       "                                                                    ... \n",
       "Sesameseed Oil                                                       152\n",
       "Sorghum and products                                                 152\n",
       "Soyabean Oil                                                         152\n",
       "Soyabeans                                                            152\n",
       "Spices                                                               152\n",
       "Spices, Other                                                        152\n",
       "Starchy Roots                                                        152\n",
       "Stimulants                                                           152\n",
       "Sugar & Sweeteners                                                   152\n",
       "Sugar (Raw Equivalent)                                               152\n",
       "Sugar Crops                                                          152\n",
       "Sugar beet                                                           152\n",
       "Sugar cane                                                           152\n",
       "Sugar non-centrifugal                                                152\n",
       "Sugar, Raw Equivalent                                                152\n",
       "Sugar, Refined Equiv                                                 152\n",
       "Sunflower seed                                                       152\n",
       "Sunflowerseed Oil                                                    152\n",
       "Sweet potatoes                                                       152\n",
       "Sweeteners, Other                                                    152\n",
       "Tea (including mate)                                                 152\n",
       "Tomatoes and products                                                152\n",
       "Treenuts                                                             152\n",
       "Vegetable Oils                                                       152\n",
       "Vegetables                                                           152\n",
       "Vegetables, Other                                                    152\n",
       "Wheat and products                                                   152\n",
       "Wine                                                                 152\n",
       "Yams                                                                 152\n",
       "Age-standardized mortality rate by cause (per 100 000 population)    152\n",
       "dtype: int64"
      ]
     },
     "execution_count": 94,
     "metadata": {},
     "output_type": "execute_result"
    }
   ],
   "source": [
    "#I would like to educate myself on \"SQL style joins\" so I'll try that for merging the\n",
    "#two databases\n",
    "\n",
    "#Even though some country names are not in common, I wonder what happens... From the documentation\n",
    "#it appears these will be simply dropped, which is what I want\n",
    "\n",
    "# result = pd.merge(meat_sums, cardio_2012, on='AreaName')\n",
    "\n",
    "#Now with all food, not just meats\n",
    "# result = pd.merge(meat_sums, cardio_2012, right_index=True, left_index=True)\n",
    "result = pd.merge(all_food, cardio_2012, right_index=True, left_index=True)\n",
    "result.head()\n",
    "\n",
    "#Change NaN to zero\n",
    "result.fillna(value=0, inplace=True)\n",
    "result.head()\n",
    "\n",
    "#Put in table for regression\n",
    "data_table = result.values\n",
    "np.shape(data_table)\n",
    "X = data_table[:,0:-1]\n",
    "Y = data_table[:,-1]\n",
    "# print X[:,-1]\n",
    "# print Y\n",
    "\n",
    "result.count()\n",
    "\n",
    "# for item in result.index:\n",
    "#     print item\n",
    "\n",
    "#I spent much time learning about the difference between indices and columns, and the \n",
    "#way they are distinguished in the output, which seemed subtle to me.  However now I \n",
    "#now I can merge tables either on indices or columns, and that these do not need to\n",
    "#be the same.\n",
    "\n",
    "#The data frame is now successfully combined; I can drop the last column to get the predictor\n",
    "#variables, or take only the last column to get the response.\n",
    "\n",
    "#I may want to set NaNs to zero, as I think that's what they mean in this context, or at least\n",
    "#a reasonable and quick assumption\n",
    "\n",
    "#I think I'm ready to do the PCA.  However I also think that maybe the countries here are greater in\n",
    "#number than before.  I need to figure out why exactly this is.  Specifically, there are 154 countries\n",
    "#in the Fish, seafood category whereas before there were only 41.  What happened?"
   ]
  },
  {
   "cell_type": "code",
   "execution_count": 95,
   "metadata": {
    "collapsed": false
   },
   "outputs": [],
   "source": [
    "# for item in result.index:\n",
    "#     print item"
   ]
  },
  {
   "cell_type": "code",
   "execution_count": 96,
   "metadata": {
    "collapsed": false
   },
   "outputs": [],
   "source": [
    "# for item in all_food.index:\n",
    "#     print item"
   ]
  },
  {
   "cell_type": "code",
   "execution_count": 97,
   "metadata": {
    "collapsed": false
   },
   "outputs": [],
   "source": [
    "# for item in cardio_2012.index:\n",
    "#     print item\n"
   ]
  },
  {
   "cell_type": "code",
   "execution_count": 98,
   "metadata": {
    "collapsed": false
   },
   "outputs": [],
   "source": [
    "# # Plotting practice\n",
    "\n",
    "# # result.head()\n",
    "# # result.columns\n",
    "# # plt.plot(result['Bovine Meat'].values , result['Age-standardized mortality rate by cause (per 100 000 population)'].values)\n",
    "# X = result['Cheese'].values\n",
    "# Y = result['Age-standardized mortality rate by cause (per 100 000 population)'].values\n",
    "\n",
    "# # X.shape\n",
    "# # Y.shape\n",
    "\n",
    "# # type(Y[0])  #str\n",
    "\n",
    "# Y = Y.astype(float)\n",
    "\n",
    "# plt.scatter(X,Y)"
   ]
  },
  {
   "cell_type": "markdown",
   "metadata": {},
   "source": [
    "# Analysis"
   ]
  },
  {
   "cell_type": "code",
   "execution_count": 111,
   "metadata": {
    "collapsed": true
   },
   "outputs": [],
   "source": [
    "#Based on http://scikit-learn.org/stable/modules/linear_model.html#ordinary-least-squares\n",
    "from sklearn import linear_model\n",
    "import sklearn"
   ]
  },
  {
   "cell_type": "code",
   "execution_count": 100,
   "metadata": {
    "collapsed": false
   },
   "outputs": [],
   "source": [
    "# clf = linear_model.LinearRegression()\n",
    "clf = sklearn.linear_model.Lasso(max_iter=10000)\n",
    "clf.fit(X, Y)\n",
    "# LinearRegression(copy_X=True, fit_intercept=True, n_jobs=1, normalize=False)\n",
    "coefs = clf.coef_\n",
    "# for item in coefs:\n",
    "#     print meat_items"
   ]
  },
  {
   "cell_type": "code",
   "execution_count": 101,
   "metadata": {
    "collapsed": false
   },
   "outputs": [
    {
     "name": "stdout",
     "output_type": "stream",
     "text": [
      "0.811315192334\n",
      "[('Bovine Meat', 0.0), ('Mutton & Goat Meat', -0.0), ('Pigmeat', 0.0), ('Poultry Meat', -0.0), ('Meat, Other', -2.5749426500731865), ('Offals, Edible', -0.0), ('Fats, Animals, Raw', -1.6971086707529239), ('Milk, Whole', 0.41590143602602236), ('Butter, Ghee', 0.96665663397100676), ('Cheese', -10.354136221998894), ('Cream', 0.0), ('Eggs', -2.249887329651032), ('Honey', 0.16097207637012212), ('Freshwater Fish', -19.547188580489255), ('Demersal Fish', -0.0), ('Pelagic Fish', -0.47017724702204317), ('Marine Fish, Other', 2.7038498265602731), ('Crustaceans', 0.0), ('Cephalopods', 0.0), ('Molluscs, Other', 2.8405763484319295), ('Aquatic Plants', 0.0), ('Fish, Body Oil', 0.0), ('Fish, Liver Oil', 0.0), ('Milk - Excluding Butter', 4.1671833920753487), ('Meat', -0.57433717246077287), ('Offals', 0.72983147245639424), ('Animal fats', -5.9681631786118405), ('Fish, Seafood', 3.6913118080393028), ('Aquatic Products, Other', -0.0), ('Animal Products', -0.0), ('Aquatic Animals, Others', -0.31559424448750795), ('Whey', 0.50036988685186701), ('Meat Meal', -1.4962871095949342), ('Meat, Aquatic Mammals', 8.9724773179899149), ('Hides and skins', -0.0)]\n"
     ]
    }
   ],
   "source": [
    "print clf.score(X, Y)\n",
    "print zip(meat_items, coefs)"
   ]
  },
  {
   "cell_type": "code",
   "execution_count": 112,
   "metadata": {
    "collapsed": true
   },
   "outputs": [],
   "source": [
    "from sklearn import tree"
   ]
  },
  {
   "cell_type": "code",
   "execution_count": 117,
   "metadata": {
    "collapsed": false
   },
   "outputs": [
    {
     "name": "stdout",
     "output_type": "stream",
     "text": [
      "0.0107755488181\n",
      "[ 0.19178312 -0.55833493  0.21568905  0.18441338  0.02032713]\n"
     ]
    }
   ],
   "source": [
    "#Try kfolds cross val\n",
    "clf_lasso_2 = sklearn.linear_model.Lasso(alpha=100, max_iter=100000)\n",
    "clf_tree = tree.DecisionTreeRegressor(max_depth=100)\n",
    "kfolds_out = sklearn.model_selection.cross_val_score(clf_tree, X, Y, cv=5)\n",
    "# sklearn.model_selection.cross_val_score(clf_lasso_2, X, Y, cv=5)\n",
    "print np.mean(kfolds_out)\n",
    "print kfolds_out"
   ]
  },
  {
   "cell_type": "code",
   "execution_count": 37,
   "metadata": {
    "collapsed": false
   },
   "outputs": [],
   "source": [
    "clf2 = linear_model.Lasso(max_iter=10000)\n",
    "clf2.fit (X, Y)\n",
    "# LinearRegression(copy_X=True, fit_intercept=True, n_jobs=1, normalize=False)\n",
    "coefs2 = clf2.coef_\n",
    "# clf2.score(X, Y)"
   ]
  },
  {
   "cell_type": "code",
   "execution_count": 368,
   "metadata": {
    "collapsed": false
   },
   "outputs": [
    {
     "data": {
      "text/plain": [
       "[('Bovine Meat', 3.8720238224465882),\n",
       " ('Mutton & Goat Meat', -1.5619103711806699),\n",
       " ('Pigmeat', 0.0),\n",
       " ('Poultry Meat', 0.38769879345238906),\n",
       " ('Meat, Other', -0.1475188143682184),\n",
       " ('Offals, Edible', -3.6667704063533622),\n",
       " ('Fats, Animals, Raw', -0.9449874799541006),\n",
       " ('Milk, Whole', 0.069343595675819963),\n",
       " ('Butter, Ghee', -3.6767297366047238),\n",
       " ('Cheese', 0.16048943554819475),\n",
       " ('Cream', 0.16385088461890951),\n",
       " ('Eggs', 0.10292947445797428),\n",
       " ('Honey', -4.0173627893525587),\n",
       " ('Freshwater Fish', -5.297900539017097),\n",
       " ('Demersal Fish', -17.723725374380056),\n",
       " ('Pelagic Fish', -0.18053583398157386),\n",
       " ('Marine Fish, Other', -0.061418164100839757),\n",
       " ('Crustaceans', 0.0),\n",
       " ('Cephalopods', -0.46989248314857734),\n",
       " ('Molluscs, Other', 0.46991053324415538),\n",
       " ('Aquatic Plants', 0.040410859967981959),\n",
       " ('Fish, Body Oil', -0.0),\n",
       " ('Fish, Liver Oil', 0.0),\n",
       " ('Milk - Excluding Butter', -0.052058001265992512),\n",
       " ('Meat', -0.018058403263383704),\n",
       " ('Offals', 0.061207911976574457),\n",
       " ('Animal fats', -0.24726971281800084),\n",
       " ('Fish, Seafood', 0.18311570243818459),\n",
       " ('Aquatic Products, Other', 2.1622591956724859),\n",
       " ('Animal Products', -2.0079377788860806),\n",
       " ('Aquatic Animals, Others', 0.11415931294515884),\n",
       " ('Whey', -0.064487719082986367),\n",
       " ('Meat Meal', -0.22091379771365055),\n",
       " ('Meat, Aquatic Mammals', 0.35365421260312696)]"
      ]
     },
     "execution_count": 368,
     "metadata": {},
     "output_type": "execute_result"
    }
   ],
   "source": [
    "zip(meat_items, coefs2)"
   ]
  },
  {
   "cell_type": "markdown",
   "metadata": {},
   "source": [
    "# Old country correspondence finding"
   ]
  },
  {
   "cell_type": "code",
   "execution_count": 57,
   "metadata": {
    "collapsed": false
   },
   "outputs": [
    {
     "name": "stdout",
     "output_type": "stream",
     "text": [
      "China, mainland\n",
      "China, Hong Kong SAR\n",
      "Côte d'Ivoire\n",
      "China, Macao SAR\n",
      "China, Taiwan Province of\n"
     ]
    }
   ],
   "source": [
    "#From earlier work, list of countries in fish list but not in cardio list:\n",
    "# China, mainland\n",
    "# China, Hong Kong SAR\n",
    "# Côte d'Ivoire\n",
    "# China, Macao SAR\n",
    "# China, Taiwan Province of\n",
    "#Looks like all China should be combined to correspond, and spelling altered for Ivory Coast\n",
    "\n",
    "# Get countries in common between meat and disease data\n",
    "counter = 0\n",
    "\n",
    "for item in fish_2012.AreaName:\n",
    "    #Find country in disease data if it exists\n",
    "    country_index = cardio_2012['Unnamed: 0'].isin([item])\n",
    "    if sum(country_index) == 1:\n",
    "#         print \"1\"       \n",
    "        #get fish consumption\n",
    "#         print fish_2012[fish_2012.AreaName.isin([item])].Value\n",
    "        fish_consumption[counter] = fish_2012[fish_2012.AreaName.isin([item])].Value\n",
    "        cardio_disease[counter] = \\\n",
    "            cardio_2012[country_index]\\\n",
    "            ['Age-standardized mortality rate by cause (per 100 000 population)']\n",
    "    else:\n",
    "        print item\n",
    "#         print \"Not in cardio list: %s\" % (item)\n",
    "    counter = counter + 1"
   ]
  },
  {
   "cell_type": "markdown",
   "metadata": {},
   "source": [
    "# Old analysis"
   ]
  },
  {
   "cell_type": "code",
   "execution_count": 58,
   "metadata": {
    "collapsed": false
   },
   "outputs": [
    {
     "data": {
      "text/plain": [
       "<matplotlib.collections.PathCollection at 0x10b54e190>"
      ]
     },
     "execution_count": 58,
     "metadata": {},
     "output_type": "execute_result"
    },
    {
     "data": {
      "image/png": "[encoded data removed]",
      "text/plain": [
       "<matplotlib.figure.Figure at 0x10b54e110>"
      ]
     },
     "metadata": {},
     "output_type": "display_data"
    }
   ],
   "source": [
    "#Bar chart of data of interest\n",
    "ind = np.arange(fish_2012.shape[0])\n",
    "fig, ax = plt.subplots()\n",
    "# ax.bar(ind, cardio_disease);#, tick_label=fish_2012.AreaName.values)\n",
    "# np.arange(fish_2012.shape[0])\n",
    "# fish_consumption\n",
    "\n",
    "plt.scatter(fish_consumption, cardio_disease)"
   ]
  },
  {
   "cell_type": "code",
   "execution_count": 59,
   "metadata": {
    "collapsed": false
   },
   "outputs": [
    {
     "data": {
      "text/plain": [
       "LinregressResult(slope=-3.4502314788551058, intercept=288.9484088492307, rvalue=-0.27001756624082462, pvalue=0.10110665888041022, stderr=2.0505295536132406)"
      ]
     },
     "execution_count": 59,
     "metadata": {},
     "output_type": "execute_result"
    }
   ],
   "source": [
    "from scipy import stats\n",
    "nan_mask = np.isnan(fish_consumption) | np.isnan(cardio_disease)\n",
    "stats.linregress(fish_consumption[np.invert(nan_mask)],cardio_disease[np.invert(nan_mask)])"
   ]
  },
  {
   "cell_type": "code",
   "execution_count": null,
   "metadata": {
    "collapsed": true
   },
   "outputs": [],
   "source": [
    "#Need to try PCA and other stuff... would be good to have an idea of some hopefully interesting things that students could find\n",
    "#Maybe I can look this weekend."
   ]
  }
 ],
 "metadata": {
  "kernelspec": {
   "display_name": "Python 2",
   "language": "python",
   "name": "python2"
  },
  "language_info": {
   "codemirror_mode": {
    "name": "ipython",
    "version": 2
   },
   "file_extension": ".py",
   "mimetype": "text/x-python",
   "name": "python",
   "nbconvert_exporter": "python",
   "pygments_lexer": "ipython2",
   "version": "2.7.12"
  }
 },
 "nbformat": 4,
 "nbformat_minor": 0
}
